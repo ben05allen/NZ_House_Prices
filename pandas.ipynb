{
 "cells": [
  {
   "cell_type": "code",
   "execution_count": 1,
   "metadata": {},
   "outputs": [
    {
     "data": {
      "text/plain": [
       "'2.1.3'"
      ]
     },
     "execution_count": 1,
     "metadata": {},
     "output_type": "execute_result"
    }
   ],
   "source": [
    "import pandas as pd\n",
    "import matplotlib.pyplot as plt\n",
    "pd.__version__"
   ]
  },
  {
   "cell_type": "code",
   "execution_count": 2,
   "metadata": {},
   "outputs": [],
   "source": [
    "df = pd.read_csv('TA.csv')"
   ]
  },
  {
   "cell_type": "code",
   "execution_count": 3,
   "metadata": {},
   "outputs": [
    {
     "data": {
      "text/plain": [
       "array(['Far North District', 'Whangarei District', 'Kaipara District',\n",
       "       'Thames-Coromandel District', 'Hauraki District',\n",
       "       'Waikato District', 'Matamata-Piako District', 'Hamilton City',\n",
       "       'Waipa District', 'South Waikato District', 'Waitomo District',\n",
       "       'Taupo District', 'Western Bay of Plenty District',\n",
       "       'Tauranga City', 'Rotorua District', 'Whakatane District',\n",
       "       'Kawerau District', 'Opotiki District', 'Gisborne District',\n",
       "       'Wairoa District', 'Hastings District', 'Napier City',\n",
       "       \"Central Hawke's Bay District\", 'New Plymouth District',\n",
       "       'Stratford District', 'South Taranaki District',\n",
       "       'Ruapehu District', 'Wanganui District', 'Rangitikei District',\n",
       "       'Manawatu District', 'Palmerston North City', 'Tararua District',\n",
       "       'Horowhenua District', 'Kapiti Coast District', 'Porirua City',\n",
       "       'Upper Hutt City', 'Lower Hutt City', 'Wellington City',\n",
       "       'Masterton District', 'Carterton District',\n",
       "       'South Wairarapa District', 'Tasman District', 'Nelson City',\n",
       "       'Marlborough District', 'Buller District', 'Grey District',\n",
       "       'Westland District', 'Hurunui District', 'Waimakariri District',\n",
       "       'Christchurch City', 'Selwyn District', 'Ashburton District',\n",
       "       'Timaru District', 'Mackenzie District', 'Waimate District',\n",
       "       'Waitaki District', 'Central Otago District',\n",
       "       'Queenstown-Lakes District', 'Dunedin City', 'Clutha District',\n",
       "       'Southland District', 'Gore District', 'Invercargill City',\n",
       "       'Auckland', 'Otorohanga District', 'Kaikoura District',\n",
       "       'Chatham Islands Territory', 'Greater Christchurch',\n",
       "       'Greater Hamilton', 'Greater Tauranga', 'Greater Wellington',\n",
       "       'Napier-Hastings', 'Nelson-Tasman', 'Greater Christchurch UDS'],\n",
       "      dtype=object)"
      ]
     },
     "execution_count": 3,
     "metadata": {},
     "output_type": "execute_result"
    }
   ],
   "source": [
    "df.NAME.unique()"
   ]
  },
  {
   "cell_type": "code",
   "execution_count": 4,
   "metadata": {},
   "outputs": [
    {
     "data": {
      "text/html": [
       "<div>\n",
       "<style scoped>\n",
       "    .dataframe tbody tr th:only-of-type {\n",
       "        vertical-align: middle;\n",
       "    }\n",
       "\n",
       "    .dataframe tbody tr th {\n",
       "        vertical-align: top;\n",
       "    }\n",
       "\n",
       "    .dataframe thead th {\n",
       "        text-align: right;\n",
       "    }\n",
       "</style>\n",
       "<table border=\"1\" class=\"dataframe\">\n",
       "  <thead>\n",
       "    <tr style=\"text-align: right;\">\n",
       "      <th></th>\n",
       "      <th>Median_SP</th>\n",
       "    </tr>\n",
       "    <tr>\n",
       "      <th>Date</th>\n",
       "      <th></th>\n",
       "    </tr>\n",
       "  </thead>\n",
       "  <tbody>\n",
       "    <tr>\n",
       "      <th>1993</th>\n",
       "      <td>116750.000</td>\n",
       "    </tr>\n",
       "    <tr>\n",
       "      <th>1994</th>\n",
       "      <td>126250.000</td>\n",
       "    </tr>\n",
       "    <tr>\n",
       "      <th>1995</th>\n",
       "      <td>131375.000</td>\n",
       "    </tr>\n",
       "    <tr>\n",
       "      <th>1996</th>\n",
       "      <td>139250.000</td>\n",
       "    </tr>\n",
       "    <tr>\n",
       "      <th>1997</th>\n",
       "      <td>147351.875</td>\n",
       "    </tr>\n",
       "    <tr>\n",
       "      <th>1998</th>\n",
       "      <td>149787.500</td>\n",
       "    </tr>\n",
       "    <tr>\n",
       "      <th>1999</th>\n",
       "      <td>154625.000</td>\n",
       "    </tr>\n",
       "    <tr>\n",
       "      <th>2000</th>\n",
       "      <td>155000.000</td>\n",
       "    </tr>\n",
       "    <tr>\n",
       "      <th>2001</th>\n",
       "      <td>156687.500</td>\n",
       "    </tr>\n",
       "    <tr>\n",
       "      <th>2002</th>\n",
       "      <td>159000.000</td>\n",
       "    </tr>\n",
       "    <tr>\n",
       "      <th>2003</th>\n",
       "      <td>181375.000</td>\n",
       "    </tr>\n",
       "    <tr>\n",
       "      <th>2004</th>\n",
       "      <td>226750.000</td>\n",
       "    </tr>\n",
       "    <tr>\n",
       "      <th>2005</th>\n",
       "      <td>267062.500</td>\n",
       "    </tr>\n",
       "    <tr>\n",
       "      <th>2006</th>\n",
       "      <td>293062.500</td>\n",
       "    </tr>\n",
       "    <tr>\n",
       "      <th>2007</th>\n",
       "      <td>323493.750</td>\n",
       "    </tr>\n",
       "    <tr>\n",
       "      <th>2008</th>\n",
       "      <td>315000.000</td>\n",
       "    </tr>\n",
       "    <tr>\n",
       "      <th>2009</th>\n",
       "      <td>317500.000</td>\n",
       "    </tr>\n",
       "    <tr>\n",
       "      <th>2010</th>\n",
       "      <td>329500.000</td>\n",
       "    </tr>\n",
       "    <tr>\n",
       "      <th>2011</th>\n",
       "      <td>349750.000</td>\n",
       "    </tr>\n",
       "    <tr>\n",
       "      <th>2012</th>\n",
       "      <td>366448.750</td>\n",
       "    </tr>\n",
       "    <tr>\n",
       "      <th>2013</th>\n",
       "      <td>404000.000</td>\n",
       "    </tr>\n",
       "    <tr>\n",
       "      <th>2014</th>\n",
       "      <td>440125.000</td>\n",
       "    </tr>\n",
       "    <tr>\n",
       "      <th>2015</th>\n",
       "      <td>449450.000</td>\n",
       "    </tr>\n",
       "    <tr>\n",
       "      <th>2016</th>\n",
       "      <td>462925.000</td>\n",
       "    </tr>\n",
       "    <tr>\n",
       "      <th>2017</th>\n",
       "      <td>464250.000</td>\n",
       "    </tr>\n",
       "    <tr>\n",
       "      <th>2018</th>\n",
       "      <td>467474.500</td>\n",
       "    </tr>\n",
       "    <tr>\n",
       "      <th>2019</th>\n",
       "      <td>476750.000</td>\n",
       "    </tr>\n",
       "    <tr>\n",
       "      <th>2020</th>\n",
       "      <td>509875.000</td>\n",
       "    </tr>\n",
       "    <tr>\n",
       "      <th>2021</th>\n",
       "      <td>632500.000</td>\n",
       "    </tr>\n",
       "    <tr>\n",
       "      <th>2022</th>\n",
       "      <td>704888.750</td>\n",
       "    </tr>\n",
       "    <tr>\n",
       "      <th>2023</th>\n",
       "      <td>689250.000</td>\n",
       "    </tr>\n",
       "  </tbody>\n",
       "</table>\n",
       "</div>"
      ],
      "text/plain": [
       "       Median_SP\n",
       "Date            \n",
       "1993  116750.000\n",
       "1994  126250.000\n",
       "1995  131375.000\n",
       "1996  139250.000\n",
       "1997  147351.875\n",
       "1998  149787.500\n",
       "1999  154625.000\n",
       "2000  155000.000\n",
       "2001  156687.500\n",
       "2002  159000.000\n",
       "2003  181375.000\n",
       "2004  226750.000\n",
       "2005  267062.500\n",
       "2006  293062.500\n",
       "2007  323493.750\n",
       "2008  315000.000\n",
       "2009  317500.000\n",
       "2010  329500.000\n",
       "2011  349750.000\n",
       "2012  366448.750\n",
       "2013  404000.000\n",
       "2014  440125.000\n",
       "2015  449450.000\n",
       "2016  462925.000\n",
       "2017  464250.000\n",
       "2018  467474.500\n",
       "2019  476750.000\n",
       "2020  509875.000\n",
       "2021  632500.000\n",
       "2022  704888.750\n",
       "2023  689250.000"
      ]
     },
     "execution_count": 4,
     "metadata": {},
     "output_type": "execute_result"
    }
   ],
   "source": [
    "Christchurch_Median_Salesprice = (\n",
    "    df[df.NAME == 'Greater Christchurch'][['NAME', 'Date', 'Median_SP']]\n",
    "        .dropna()\n",
    "        .groupby(pd.to_datetime(df.Date).dt.year)[['Median_SP']].mean()\n",
    ")\n",
    "Christchurch_Median_Salesprice"
   ]
  },
  {
   "cell_type": "code",
   "execution_count": 1,
   "metadata": {},
   "outputs": [
    {
     "ename": "NameError",
     "evalue": "name 'plt' is not defined",
     "output_type": "error",
     "traceback": [
      "\u001b[0;31m---------------------------------------------------------------------------\u001b[0m",
      "\u001b[0;31mNameError\u001b[0m                                 Traceback (most recent call last)",
      "\u001b[1;32m/home/ben/Projects/NZ-House_Prices/pandas.ipynb Cell 5\u001b[0m line \u001b[0;36m1\n\u001b[0;32m----> <a href='vscode-notebook-cell://wsl%2Bubuntu/home/ben/Projects/NZ-House_Prices/pandas.ipynb#W4sdnNjb2RlLXJlbW90ZQ%3D%3D?line=0'>1</a>\u001b[0m fig, ax1 \u001b[39m=\u001b[39m plt\u001b[39m.\u001b[39msubplots(figsize\u001b[39m=\u001b[39m(\u001b[39m10\u001b[39m, \u001b[39m6\u001b[39m))\n\u001b[1;32m      <a href='vscode-notebook-cell://wsl%2Bubuntu/home/ben/Projects/NZ-House_Prices/pandas.ipynb#W4sdnNjb2RlLXJlbW90ZQ%3D%3D?line=2'>3</a>\u001b[0m color \u001b[39m=\u001b[39m \u001b[39m'\u001b[39m\u001b[39mtab:blue\u001b[39m\u001b[39m'\u001b[39m\n\u001b[1;32m      <a href='vscode-notebook-cell://wsl%2Bubuntu/home/ben/Projects/NZ-House_Prices/pandas.ipynb#W4sdnNjb2RlLXJlbW90ZQ%3D%3D?line=3'>4</a>\u001b[0m ax1\u001b[39m.\u001b[39mset_xlabel(\u001b[39m'\u001b[39m\u001b[39mYear\u001b[39m\u001b[39m'\u001b[39m)\n",
      "\u001b[0;31mNameError\u001b[0m: name 'plt' is not defined"
     ]
    }
   ],
   "source": [
    "fig, ax1 = plt.subplots(figsize=(10, 6))\n",
    "\n",
    "color = 'tab:blue'\n",
    "ax1.set_xlabel('Year')\n",
    "ax1.set_ylabel('Average Price', color=color)\n",
    "ax1.plot(Christchurch_Median_Salesprice.index, Christchurch_Median_Salesprice.Median_SP, color=color)\n",
    "ax1.tick_params(axis='y', labelcolor=color)\n",
    "\n",
    "fig.tight_layout()\n",
    "plt.title(\"Median Salesprice of Residential Dwellings in Greater Christchurch\")\n",
    "plt.grid(True)\n",
    "\n",
    "plt.show()"
   ]
  },
  {
   "cell_type": "code",
   "execution_count": 2,
   "metadata": {},
   "outputs": [
    {
     "data": {
      "text/plain": [
       "4294967296"
      ]
     },
     "execution_count": 2,
     "metadata": {},
     "output_type": "execute_result"
    }
   ],
   "source": [
    "256 ** 4\n",
    "4_294_967_296"
   ]
  }
 ],
 "metadata": {
  "kernelspec": {
   "display_name": ".venv",
   "language": "python",
   "name": "python3"
  },
  "language_info": {
   "codemirror_mode": {
    "name": "ipython",
    "version": 3
   },
   "file_extension": ".py",
   "mimetype": "text/x-python",
   "name": "python",
   "nbconvert_exporter": "python",
   "pygments_lexer": "ipython3",
   "version": "3.10.12"
  }
 },
 "nbformat": 4,
 "nbformat_minor": 2
}
