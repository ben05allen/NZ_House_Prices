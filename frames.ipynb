{
 "cells": [
  {
   "cell_type": "code",
   "execution_count": 3,
   "metadata": {},
   "outputs": [
    {
     "data": {
      "text/plain": [
       "'0.19.13'"
      ]
     },
     "execution_count": 3,
     "metadata": {},
     "output_type": "execute_result"
    }
   ],
   "source": [
    "import polars as pl\n",
    "pl.__version__"
   ]
  },
  {
   "cell_type": "code",
   "execution_count": 4,
   "metadata": {},
   "outputs": [],
   "source": [
    "df = pl.scan_csv(\"TA.csv\", try_parse_dates=True)"
   ]
  },
  {
   "cell_type": "code",
   "execution_count": 5,
   "metadata": {},
   "outputs": [
    {
     "data": {
      "text/plain": [
       "OrderedDict([('NAME', Utf8),\n",
       "             ('Date', Date),\n",
       "             ('Median_SP', Float64),\n",
       "             ('Median_SP_Real', Float64),\n",
       "             ('Fisher_PI', Float64),\n",
       "             ('Quantity', Int64),\n",
       "             ('Stock', Int64),\n",
       "             ('Quantity_Stock', Float64),\n",
       "             ('spar_chained', Utf8),\n",
       "             ('spar_chained_land', Utf8),\n",
       "             ('LV_CV_mean', Utf8),\n",
       "             ('LV_mean', Utf8),\n",
       "             ('Geomean_Rent', Int64),\n",
       "             ('Geomean_Rent_Real', Float64),\n",
       "             ('Rent_Fisher_PI', Float64),\n",
       "             ('Rent_ratio', Float64),\n",
       "             ('HAM_Buy', Utf8),\n",
       "             ('HAM_Rent', Utf8)])"
      ]
     },
     "execution_count": 5,
     "metadata": {},
     "output_type": "execute_result"
    }
   ],
   "source": [
    "df.limit(0).collect().schema"
   ]
  },
  {
   "cell_type": "code",
   "execution_count": 11,
   "metadata": {},
   "outputs": [
    {
     "ename": "ComputeError",
     "evalue": "Could not parse `None` as dtype `f64` at column 'Median_SP' (column number 3).\nThe current offset in the file is 1672359 bytes.\n\nYou might want to try:\n- increasing `infer_schema_length` (e.g. `infer_schema_length=10000`),\n- specifying correct dtype with the `dtypes` argument\n- setting `ignore_errors` to `True`,\n- adding `None` to the `null_values` list.",
     "output_type": "error",
     "traceback": [
      "\u001b[0;31m---------------------------------------------------------------------------\u001b[0m",
      "\u001b[0;31mComputeError\u001b[0m                              Traceback (most recent call last)",
      "\u001b[1;32m/home/ben/Projects/NZ-House_Prices/frames.ipynb Cell 4\u001b[0m line \u001b[0;36m7\n\u001b[1;32m      <a href='vscode-notebook-cell://wsl%2Bubuntu/home/ben/Projects/NZ-House_Prices/frames.ipynb#W3sdnNjb2RlLXJlbW90ZQ%3D%3D?line=0'>1</a>\u001b[0m q \u001b[39m=\u001b[39m (\n\u001b[1;32m      <a href='vscode-notebook-cell://wsl%2Bubuntu/home/ben/Projects/NZ-House_Prices/frames.ipynb#W3sdnNjb2RlLXJlbW90ZQ%3D%3D?line=1'>2</a>\u001b[0m     df  \u001b[39m#.with_columns(pl.col('Median_SP').fill_null(0).alias('Median_SP_Adj'))\u001b[39;00m\n\u001b[1;32m      <a href='vscode-notebook-cell://wsl%2Bubuntu/home/ben/Projects/NZ-House_Prices/frames.ipynb#W3sdnNjb2RlLXJlbW90ZQ%3D%3D?line=2'>3</a>\u001b[0m         \u001b[39m.\u001b[39mselect([\u001b[39m'\u001b[39m\u001b[39mNAME\u001b[39m\u001b[39m'\u001b[39m, \u001b[39m'\u001b[39m\u001b[39mDate\u001b[39m\u001b[39m'\u001b[39m, \u001b[39m'\u001b[39m\u001b[39mMedian_SP\u001b[39m\u001b[39m'\u001b[39m])\n\u001b[1;32m      <a href='vscode-notebook-cell://wsl%2Bubuntu/home/ben/Projects/NZ-House_Prices/frames.ipynb#W3sdnNjb2RlLXJlbW90ZQ%3D%3D?line=3'>4</a>\u001b[0m         \u001b[39m.\u001b[39mfilter(pl\u001b[39m.\u001b[39mcol(\u001b[39m'\u001b[39m\u001b[39mNAME\u001b[39m\u001b[39m'\u001b[39m)\u001b[39m.\u001b[39mstr\u001b[39m.\u001b[39mstarts_with(\u001b[39m'\u001b[39m\u001b[39mChr\u001b[39m\u001b[39m'\u001b[39m))\n\u001b[1;32m      <a href='vscode-notebook-cell://wsl%2Bubuntu/home/ben/Projects/NZ-House_Prices/frames.ipynb#W3sdnNjb2RlLXJlbW90ZQ%3D%3D?line=4'>5</a>\u001b[0m     )\n\u001b[0;32m----> <a href='vscode-notebook-cell://wsl%2Bubuntu/home/ben/Projects/NZ-House_Prices/frames.ipynb#W3sdnNjb2RlLXJlbW90ZQ%3D%3D?line=6'>7</a>\u001b[0m res \u001b[39m=\u001b[39m q\u001b[39m.\u001b[39;49mcollect()\n\u001b[1;32m      <a href='vscode-notebook-cell://wsl%2Bubuntu/home/ben/Projects/NZ-House_Prices/frames.ipynb#W3sdnNjb2RlLXJlbW90ZQ%3D%3D?line=8'>9</a>\u001b[0m res\n",
      "File \u001b[0;32m~/Projects/NZ-House_Prices/.venv/lib/python3.10/site-packages/polars/utils/deprecation.py:100\u001b[0m, in \u001b[0;36mdeprecate_renamed_parameter.<locals>.decorate.<locals>.wrapper\u001b[0;34m(*args, **kwargs)\u001b[0m\n\u001b[1;32m     95\u001b[0m \u001b[39m@wraps\u001b[39m(function)\n\u001b[1;32m     96\u001b[0m \u001b[39mdef\u001b[39;00m \u001b[39mwrapper\u001b[39m(\u001b[39m*\u001b[39margs: P\u001b[39m.\u001b[39margs, \u001b[39m*\u001b[39m\u001b[39m*\u001b[39mkwargs: P\u001b[39m.\u001b[39mkwargs) \u001b[39m-\u001b[39m\u001b[39m>\u001b[39m T:\n\u001b[1;32m     97\u001b[0m     _rename_keyword_argument(\n\u001b[1;32m     98\u001b[0m         old_name, new_name, kwargs, function\u001b[39m.\u001b[39m\u001b[39m__name__\u001b[39m, version\n\u001b[1;32m     99\u001b[0m     )\n\u001b[0;32m--> 100\u001b[0m     \u001b[39mreturn\u001b[39;00m function(\u001b[39m*\u001b[39;49margs, \u001b[39m*\u001b[39;49m\u001b[39m*\u001b[39;49mkwargs)\n",
      "File \u001b[0;32m~/Projects/NZ-House_Prices/.venv/lib/python3.10/site-packages/polars/lazyframe/frame.py:1788\u001b[0m, in \u001b[0;36mLazyFrame.collect\u001b[0;34m(self, type_coercion, predicate_pushdown, projection_pushdown, simplify_expression, slice_pushdown, comm_subplan_elim, comm_subexpr_elim, no_optimization, streaming, _eager)\u001b[0m\n\u001b[1;32m   1775\u001b[0m     comm_subplan_elim \u001b[39m=\u001b[39m \u001b[39mFalse\u001b[39;00m\n\u001b[1;32m   1777\u001b[0m ldf \u001b[39m=\u001b[39m \u001b[39mself\u001b[39m\u001b[39m.\u001b[39m_ldf\u001b[39m.\u001b[39moptimization_toggle(\n\u001b[1;32m   1778\u001b[0m     type_coercion,\n\u001b[1;32m   1779\u001b[0m     predicate_pushdown,\n\u001b[0;32m   (...)\u001b[0m\n\u001b[1;32m   1786\u001b[0m     _eager,\n\u001b[1;32m   1787\u001b[0m )\n\u001b[0;32m-> 1788\u001b[0m \u001b[39mreturn\u001b[39;00m wrap_df(ldf\u001b[39m.\u001b[39;49mcollect())\n",
      "\u001b[0;31mComputeError\u001b[0m: Could not parse `None` as dtype `f64` at column 'Median_SP' (column number 3).\nThe current offset in the file is 1672359 bytes.\n\nYou might want to try:\n- increasing `infer_schema_length` (e.g. `infer_schema_length=10000`),\n- specifying correct dtype with the `dtypes` argument\n- setting `ignore_errors` to `True`,\n- adding `None` to the `null_values` list."
     ]
    }
   ],
   "source": [
    "\n",
    "q = (\n",
    "    df  .with_columns(pl.col('Median_SP').fill_nan().alias('Median_SP_Adj'))\n",
    "        .select(['NAME', 'Date', 'Median_SP'])\n",
    "        .filter(pl.col('NAME').str.starts_with('Chr'))\n",
    "    )\n",
    "\n",
    "res = q.collect()\n",
    "\n",
    "res"
   ]
  },
  {
   "cell_type": "code",
   "execution_count": null,
   "metadata": {},
   "outputs": [],
   "source": []
  }
 ],
 "metadata": {
  "kernelspec": {
   "display_name": ".venv",
   "language": "python",
   "name": "python3"
  },
  "language_info": {
   "codemirror_mode": {
    "name": "ipython",
    "version": 3
   },
   "file_extension": ".py",
   "mimetype": "text/x-python",
   "name": "python",
   "nbconvert_exporter": "python",
   "pygments_lexer": "ipython3",
   "version": "3.10.12"
  }
 },
 "nbformat": 4,
 "nbformat_minor": 2
}
