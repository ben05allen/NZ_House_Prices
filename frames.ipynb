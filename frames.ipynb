{
 "cells": [
  {
   "cell_type": "code",
   "execution_count": 1,
   "metadata": {},
   "outputs": [
    {
     "data": {
      "text/plain": [
       "'0.19.13'"
      ]
     },
     "execution_count": 1,
     "metadata": {},
     "output_type": "execute_result"
    }
   ],
   "source": [
    "import polars as pl\n",
    "pl.__version__"
   ]
  },
  {
   "cell_type": "code",
   "execution_count": 2,
   "metadata": {},
   "outputs": [],
   "source": [
    "df = pl.scan_csv(\"TA.csv\", try_parse_dates=True)"
   ]
  },
  {
   "cell_type": "code",
   "execution_count": null,
   "metadata": {},
   "outputs": [],
   "source": [
    "df.limit(0).collect().schema"
   ]
  },
  {
   "cell_type": "code",
   "execution_count": 30,
   "metadata": {},
   "outputs": [
    {
     "data": {
      "text/html": [
       "<div><style>\n",
       ".dataframe > thead > tr > th,\n",
       ".dataframe > tbody > tr > td {\n",
       "  text-align: right;\n",
       "  white-space: pre-wrap;\n",
       "}\n",
       "</style>\n",
       "<small>shape: (31, 4)</small><table border=\"1\" class=\"dataframe\"><thead><tr><th>Date</th><th>Region</th><th>Median_Price</th><th>Observations</th></tr><tr><td>i32</td><td>str</td><td>f64</td><td>u32</td></tr></thead><tbody><tr><td>2023</td><td>&quot;Auckland&quot;</td><td>975000.0</td><td>3</td></tr><tr><td>2022</td><td>&quot;Auckland&quot;</td><td>1.10625e6</td><td>4</td></tr><tr><td>2021</td><td>&quot;Auckland&quot;</td><td>1.1125e6</td><td>4</td></tr><tr><td>2020</td><td>&quot;Auckland&quot;</td><td>911043.0</td><td>4</td></tr><tr><td>2019</td><td>&quot;Auckland&quot;</td><td>840000.0</td><td>4</td></tr><tr><td>2018</td><td>&quot;Auckland&quot;</td><td>848750.0</td><td>4</td></tr><tr><td>2017</td><td>&quot;Auckland&quot;</td><td>846875.0</td><td>4</td></tr><tr><td>2016</td><td>&quot;Auckland&quot;</td><td>813000.0</td><td>4</td></tr><tr><td>2015</td><td>&quot;Auckland&quot;</td><td>725919.0</td><td>4</td></tr><tr><td>2014</td><td>&quot;Auckland&quot;</td><td>613625.0</td><td>4</td></tr><tr><td>2013</td><td>&quot;Auckland&quot;</td><td>554500.0</td><td>4</td></tr><tr><td>2012</td><td>&quot;Auckland&quot;</td><td>495500.0</td><td>4</td></tr><tr><td>&hellip;</td><td>&hellip;</td><td>&hellip;</td><td>&hellip;</td></tr><tr><td>2004</td><td>&quot;Auckland&quot;</td><td>322250.0</td><td>4</td></tr><tr><td>2003</td><td>&quot;Auckland&quot;</td><td>287000.0</td><td>4</td></tr><tr><td>2002</td><td>&quot;Auckland&quot;</td><td>258000.0</td><td>4</td></tr><tr><td>2001</td><td>&quot;Auckland&quot;</td><td>240500.0</td><td>4</td></tr><tr><td>2000</td><td>&quot;Auckland&quot;</td><td>232500.0</td><td>4</td></tr><tr><td>1999</td><td>&quot;Auckland&quot;</td><td>229375.0</td><td>4</td></tr><tr><td>1998</td><td>&quot;Auckland&quot;</td><td>228250.0</td><td>4</td></tr><tr><td>1997</td><td>&quot;Auckland&quot;</td><td>231750.0</td><td>4</td></tr><tr><td>1996</td><td>&quot;Auckland&quot;</td><td>221500.0</td><td>4</td></tr><tr><td>1995</td><td>&quot;Auckland&quot;</td><td>183375.0</td><td>4</td></tr><tr><td>1994</td><td>&quot;Auckland&quot;</td><td>164750.0</td><td>4</td></tr><tr><td>1993</td><td>&quot;Auckland&quot;</td><td>141250.0</td><td>4</td></tr></tbody></table></div>"
      ],
      "text/plain": [
       "shape: (31, 4)\n",
       "┌──────┬──────────┬──────────────┬──────────────┐\n",
       "│ Date ┆ Region   ┆ Median_Price ┆ Observations │\n",
       "│ ---  ┆ ---      ┆ ---          ┆ ---          │\n",
       "│ i32  ┆ str      ┆ f64          ┆ u32          │\n",
       "╞══════╪══════════╪══════════════╪══════════════╡\n",
       "│ 2023 ┆ Auckland ┆ 975000.0     ┆ 3            │\n",
       "│ 2022 ┆ Auckland ┆ 1.10625e6    ┆ 4            │\n",
       "│ 2021 ┆ Auckland ┆ 1.1125e6     ┆ 4            │\n",
       "│ 2020 ┆ Auckland ┆ 911043.0     ┆ 4            │\n",
       "│ …    ┆ …        ┆ …            ┆ …            │\n",
       "│ 1996 ┆ Auckland ┆ 221500.0     ┆ 4            │\n",
       "│ 1995 ┆ Auckland ┆ 183375.0     ┆ 4            │\n",
       "│ 1994 ┆ Auckland ┆ 164750.0     ┆ 4            │\n",
       "│ 1993 ┆ Auckland ┆ 141250.0     ┆ 4            │\n",
       "└──────┴──────────┴──────────────┴──────────────┘"
      ]
     },
     "execution_count": 30,
     "metadata": {},
     "output_type": "execute_result"
    }
   ],
   "source": [
    "q = (\n",
    "    df  .select(['NAME', 'Date', 'Median_SP'])\n",
    "        .filter(pl.col('NAME') == 'Auckland')\n",
    "        .drop_nulls()\n",
    "        .group_by(pl.col('Date').dt.year(), maintain_order=True)\n",
    "        .agg(\n",
    "            pl.col('NAME').first().alias(\"Region\"), \n",
    "            pl.col('Median_SP').mean().round().alias('Median_Price'), \n",
    "            pl.col('Median_SP').count().alias('Observations')\n",
    "        )\n",
    "    )\n",
    "res = q.collect()\n",
    "res"
   ]
  },
  {
   "cell_type": "code",
   "execution_count": null,
   "metadata": {},
   "outputs": [],
   "source": []
  }
 ],
 "metadata": {
  "kernelspec": {
   "display_name": ".venv",
   "language": "python",
   "name": "python3"
  },
  "language_info": {
   "codemirror_mode": {
    "name": "ipython",
    "version": 3
   },
   "file_extension": ".py",
   "mimetype": "text/x-python",
   "name": "python",
   "nbconvert_exporter": "python",
   "pygments_lexer": "ipython3",
   "version": "3.10.12"
  }
 },
 "nbformat": 4,
 "nbformat_minor": 2
}
