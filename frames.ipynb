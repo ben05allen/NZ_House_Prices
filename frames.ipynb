{
 "cells": [
  {
   "cell_type": "code",
   "execution_count": 1,
   "metadata": {},
   "outputs": [
    {
     "data": {
      "text/plain": [
       "'0.19.13'"
      ]
     },
     "execution_count": 1,
     "metadata": {},
     "output_type": "execute_result"
    }
   ],
   "source": [
    "import polars as pl\n",
    "pl.__version__"
   ]
  },
  {
   "cell_type": "code",
   "execution_count": 2,
   "metadata": {},
   "outputs": [],
   "source": [
    "df = pl.scan_csv(\"TA.csv\", try_parse_dates=True)"
   ]
  },
  {
   "cell_type": "code",
   "execution_count": 3,
   "metadata": {},
   "outputs": [
    {
     "data": {
      "text/plain": [
       "OrderedDict([('NAME', Utf8),\n",
       "             ('Date', Date),\n",
       "             ('Median_SP', Float64),\n",
       "             ('Median_SP_Real', Float64),\n",
       "             ('Fisher_PI', Float64),\n",
       "             ('Quantity', Int64),\n",
       "             ('Stock', Int64),\n",
       "             ('Quantity_Stock', Float64),\n",
       "             ('spar_chained', Utf8),\n",
       "             ('spar_chained_land', Utf8),\n",
       "             ('LV_CV_mean', Utf8),\n",
       "             ('LV_mean', Utf8),\n",
       "             ('Geomean_Rent', Int64),\n",
       "             ('Geomean_Rent_Real', Float64),\n",
       "             ('Rent_Fisher_PI', Float64),\n",
       "             ('Rent_ratio', Float64),\n",
       "             ('HAM_Buy', Utf8),\n",
       "             ('HAM_Rent', Utf8)])"
      ]
     },
     "execution_count": 3,
     "metadata": {},
     "output_type": "execute_result"
    }
   ],
   "source": [
    "df.limit(0).collect().schema"
   ]
  },
  {
   "cell_type": "code",
   "execution_count": 29,
   "metadata": {},
   "outputs": [
    {
     "data": {
      "text/html": [
       "<div><style>\n",
       ".dataframe > thead > tr > th,\n",
       ".dataframe > tbody > tr > td {\n",
       "  text-align: right;\n",
       "  white-space: pre-wrap;\n",
       "}\n",
       "</style>\n",
       "<small>shape: (31, 4)</small><table border=\"1\" class=\"dataframe\"><thead><tr><th>Date</th><th>Region</th><th>Median_Price</th><th>Observations</th></tr><tr><td>i32</td><td>str</td><td>f64</td><td>u32</td></tr></thead><tbody><tr><td>1993</td><td>&quot;Greater Christ…</td><td>116750.0</td><td>4</td></tr><tr><td>1994</td><td>&quot;Greater Christ…</td><td>126250.0</td><td>4</td></tr><tr><td>1995</td><td>&quot;Greater Christ…</td><td>131375.0</td><td>4</td></tr><tr><td>1996</td><td>&quot;Greater Christ…</td><td>139250.0</td><td>4</td></tr><tr><td>1997</td><td>&quot;Greater Christ…</td><td>147352.0</td><td>4</td></tr><tr><td>1998</td><td>&quot;Greater Christ…</td><td>149788.0</td><td>4</td></tr><tr><td>1999</td><td>&quot;Greater Christ…</td><td>154625.0</td><td>4</td></tr><tr><td>2000</td><td>&quot;Greater Christ…</td><td>155000.0</td><td>4</td></tr><tr><td>2001</td><td>&quot;Greater Christ…</td><td>156688.0</td><td>4</td></tr><tr><td>2002</td><td>&quot;Greater Christ…</td><td>159000.0</td><td>4</td></tr><tr><td>2003</td><td>&quot;Greater Christ…</td><td>181375.0</td><td>4</td></tr><tr><td>2004</td><td>&quot;Greater Christ…</td><td>226750.0</td><td>4</td></tr><tr><td>&hellip;</td><td>&hellip;</td><td>&hellip;</td><td>&hellip;</td></tr><tr><td>2012</td><td>&quot;Greater Christ…</td><td>366449.0</td><td>4</td></tr><tr><td>2013</td><td>&quot;Greater Christ…</td><td>404000.0</td><td>4</td></tr><tr><td>2014</td><td>&quot;Greater Christ…</td><td>440125.0</td><td>4</td></tr><tr><td>2015</td><td>&quot;Greater Christ…</td><td>449450.0</td><td>4</td></tr><tr><td>2016</td><td>&quot;Greater Christ…</td><td>462925.0</td><td>4</td></tr><tr><td>2017</td><td>&quot;Greater Christ…</td><td>464250.0</td><td>4</td></tr><tr><td>2018</td><td>&quot;Greater Christ…</td><td>467475.0</td><td>4</td></tr><tr><td>2019</td><td>&quot;Greater Christ…</td><td>476750.0</td><td>4</td></tr><tr><td>2020</td><td>&quot;Greater Christ…</td><td>509875.0</td><td>4</td></tr><tr><td>2021</td><td>&quot;Greater Christ…</td><td>632500.0</td><td>4</td></tr><tr><td>2022</td><td>&quot;Greater Christ…</td><td>704889.0</td><td>4</td></tr><tr><td>2023</td><td>&quot;Greater Christ…</td><td>689250.0</td><td>3</td></tr></tbody></table></div>"
      ],
      "text/plain": [
       "shape: (31, 4)\n",
       "┌──────┬──────────────────────┬──────────────┬──────────────┐\n",
       "│ Date ┆ Region               ┆ Median_Price ┆ Observations │\n",
       "│ ---  ┆ ---                  ┆ ---          ┆ ---          │\n",
       "│ i32  ┆ str                  ┆ f64          ┆ u32          │\n",
       "╞══════╪══════════════════════╪══════════════╪══════════════╡\n",
       "│ 1993 ┆ Greater Christchurch ┆ 116750.0     ┆ 4            │\n",
       "│ 1994 ┆ Greater Christchurch ┆ 126250.0     ┆ 4            │\n",
       "│ 1995 ┆ Greater Christchurch ┆ 131375.0     ┆ 4            │\n",
       "│ 1996 ┆ Greater Christchurch ┆ 139250.0     ┆ 4            │\n",
       "│ …    ┆ …                    ┆ …            ┆ …            │\n",
       "│ 2020 ┆ Greater Christchurch ┆ 509875.0     ┆ 4            │\n",
       "│ 2021 ┆ Greater Christchurch ┆ 632500.0     ┆ 4            │\n",
       "│ 2022 ┆ Greater Christchurch ┆ 704889.0     ┆ 4            │\n",
       "│ 2023 ┆ Greater Christchurch ┆ 689250.0     ┆ 3            │\n",
       "└──────┴──────────────────────┴──────────────┴──────────────┘"
      ]
     },
     "execution_count": 29,
     "metadata": {},
     "output_type": "execute_result"
    }
   ],
   "source": [
    "\n",
    "q = (\n",
    "    df  .select(['NAME', 'Date', 'Median_SP'])\n",
    "        .filter(pl.col('NAME') == 'Greater Christchurch')\n",
    "        .drop_nulls()\n",
    "        .group_by(pl.col('Date').dt.year(), maintain_order=True)\n",
    "        .agg(\n",
    "            pl.col('NAME').first().alias(\"Region\"), \n",
    "            pl.col('Median_SP').mean().round().alias('Median_Price'), \n",
    "            pl.col('Median_SP').count().alias('Observations')\n",
    "        )\n",
    "    )\n",
    "\n",
    "res = q.collect()\n",
    "res\n"
   ]
  },
  {
   "cell_type": "code",
   "execution_count": null,
   "metadata": {},
   "outputs": [],
   "source": []
  }
 ],
 "metadata": {
  "kernelspec": {
   "display_name": ".venv",
   "language": "python",
   "name": "python3"
  },
  "language_info": {
   "codemirror_mode": {
    "name": "ipython",
    "version": 3
   },
   "file_extension": ".py",
   "mimetype": "text/x-python",
   "name": "python",
   "nbconvert_exporter": "python",
   "pygments_lexer": "ipython3",
   "version": "3.10.12"
  }
 },
 "nbformat": 4,
 "nbformat_minor": 2
}
